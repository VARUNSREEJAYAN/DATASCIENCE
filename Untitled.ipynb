{
 "cells": [
  {
   "cell_type": "markdown",
   "metadata": {},
   "source": [
    "## IBM DATA SCIENCE CAPSTONE PROJECT"
   ]
  },
  {
   "cell_type": "markdown",
   "metadata": {},
   "source": [
    " Week 4 "
   ]
  },
  {
   "cell_type": "markdown",
   "metadata": {},
   "source": [
    "A description of the problem and a discussion of the background."
   ]
  },
  {
   "cell_type": "markdown",
   "metadata": {},
   "source": [
    "San Diego, California is a densly populated area with a good number of youngsters. The end of a busy day at work usually ends up at a restaurant. Most people like to try new places and so there is always a likehood of a new restaurant rising to success. With this in mind, I was wondering if i could come up with an analysis of the area to find out which neighborhood would most likely suit an american restuarnt to flourish. The problem description can be assesed in two ways. One from a stakeholders point of view the question would be - Which is the best neighborhood to start an american restaurant. Second, from the peoples perspective- A new choice of restaurant?"
   ]
  },
  {
   "cell_type": "markdown",
   "metadata": {},
   "source": [
    "A description of the data and how it will be used to solve the problem"
   ]
  },
  {
   "cell_type": "markdown",
   "metadata": {},
   "source": [
    "The data for this project needs to be build from various sources. The data needs to have the neighborhood, latitude and longitudes and also the varies other attributes that would be needed for the analysis. With this in mind, I have taken a dataset from kaggle that had a list of restaurants selling burritos in san diego, california. This list can be used to get the neighborhoods around which restaurants are prominent. After getting a list of neighborhoods, a data frame can be prepared with latitude and longitudanal data merged with the neighborhood data. This will give a data frame with 3 columns. After that using the foursqure API to find venues, further analysis can be perfomed to get insights from the data."
   ]
  },
  {
   "cell_type": "code",
   "execution_count": null,
   "metadata": {},
   "outputs": [],
   "source": []
  }
 ],
 "metadata": {
  "kernelspec": {
   "display_name": "Python 3",
   "language": "python",
   "name": "python3"
  },
  "language_info": {
   "codemirror_mode": {
    "name": "ipython",
    "version": 3
   },
   "file_extension": ".py",
   "mimetype": "text/x-python",
   "name": "python",
   "nbconvert_exporter": "python",
   "pygments_lexer": "ipython3",
   "version": "3.7.3"
  }
 },
 "nbformat": 4,
 "nbformat_minor": 2
}
