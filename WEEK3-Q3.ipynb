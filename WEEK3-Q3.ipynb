{
 "cells": [
  {
   "cell_type": "code",
   "execution_count": 1,
   "metadata": {},
   "outputs": [
    {
     "name": "stdout",
     "output_type": "stream",
     "text": [
      "Requirement already satisfied: wikipedia in c:\\users\\varun\\anaconda3\\lib\\site-packages (1.4.0)\n",
      "Requirement already satisfied: requests<3.0.0,>=2.0.0 in c:\\users\\varun\\anaconda3\\lib\\site-packages (from wikipedia) (2.22.0)\n",
      "Requirement already satisfied: beautifulsoup4 in c:\\users\\varun\\anaconda3\\lib\\site-packages (from wikipedia) (4.7.1)\n",
      "Requirement already satisfied: urllib3!=1.25.0,!=1.25.1,<1.26,>=1.21.1 in c:\\users\\varun\\anaconda3\\lib\\site-packages (from requests<3.0.0,>=2.0.0->wikipedia) (1.24.2)\n",
      "Requirement already satisfied: chardet<3.1.0,>=3.0.2 in c:\\users\\varun\\anaconda3\\lib\\site-packages (from requests<3.0.0,>=2.0.0->wikipedia) (3.0.4)\n",
      "Requirement already satisfied: certifi>=2017.4.17 in c:\\users\\varun\\anaconda3\\lib\\site-packages (from requests<3.0.0,>=2.0.0->wikipedia) (2019.6.16)\n",
      "Requirement already satisfied: idna<2.9,>=2.5 in c:\\users\\varun\\anaconda3\\lib\\site-packages (from requests<3.0.0,>=2.0.0->wikipedia) (2.8)\n",
      "Requirement already satisfied: soupsieve>=1.2 in c:\\users\\varun\\anaconda3\\lib\\site-packages (from beautifulsoup4->wikipedia) (1.8)\n",
      "Note: you may need to restart the kernel to use updated packages.\n"
     ]
    }
   ],
   "source": [
    "pip install wikipedia"
   ]
  },
  {
   "cell_type": "code",
   "execution_count": 28,
   "metadata": {},
   "outputs": [],
   "source": [
    "import pandas as pd\n",
    "import wikipedia as wp\n",
    "from bs4 import BeautifulSoup\n",
    "import requests\n",
    "import io\n",
    "html = wp.page(\"List of postal codes of Canada: M\").html().encode(\"UTF-8\")\n",
    "df = pd.read_html(html,header = 0)[0]\n",
    "df = df[df.Borough!= 'Not assigned']\n",
    "df = df.groupby(['Postcode', 'Borough'])['Neighbourhood'].apply(list).apply(lambda x:','.join(x)).to_frame().reset_index()\n",
    "for index, row in df.iterrows():\n",
    "    if row['Neighbourhood']=='Not assigned':\n",
    "        row['Neighbourhood'] = row['Borough']\n",
    "        \n",
    "url = \"http://cocl.us/Geospatial_data\"\n",
    "s= requests.get(url).content\n",
    "c=pd.read_csv(io.StringIO(s.decode('utf-8')))\n",
    "c.columns = ['Postcode','Latitude','Longitude']\n",
    "df = pd.merge(c,df,on = 'Postcode')\n",
    "df = df[['Postcode','Borough','Neighbourhood','Latitude','Longitude']]"
   ]
  },
  {
   "cell_type": "code",
   "execution_count": 27,
   "metadata": {},
   "outputs": [
    {
     "ename": "SyntaxError",
     "evalue": "invalid syntax (<ipython-input-27-0e585cec5168>, line 2)",
     "output_type": "error",
     "traceback": [
      "\u001b[1;36m  File \u001b[1;32m\"<ipython-input-27-0e585cec5168>\"\u001b[1;36m, line \u001b[1;32m2\u001b[0m\n\u001b[1;33m    pip install shapely\u001b[0m\n\u001b[1;37m              ^\u001b[0m\n\u001b[1;31mSyntaxError\u001b[0m\u001b[1;31m:\u001b[0m invalid syntax\n"
     ]
    }
   ],
   "source": [
    "%matplotlib inline\n",
    "pip install shapely\n",
    "import numpy as np\n",
    "from shapely.geometry import Point\n",
    "import geopandas as gpd\n",
    "import matplotlib.pyplot as plt\n",
    "df['Coordinates'] = list(zip(df.Longitude, df.Latitude))\n",
    "df['Coordinates'] = df['Coordinates'].apply(Point)\n",
    "gdf = gpd.GeoDataFrame(df,geometry = 'Coordinates')\n",
    "cities = gpd.read_file(gpd.datasets.get_path('naturallearth_cities'))\n",
    "ax= cities[cities.name == \"Toronto\"].plot(color = 'white', edgecolor = 'blue')\n",
    "gdf.plot(ax=ax, colour = 'green')\n",
    "plt.show()"
   ]
  },
  {
   "cell_type": "code",
   "execution_count": null,
   "metadata": {},
   "outputs": [],
   "source": []
  },
  {
   "cell_type": "code",
   "execution_count": null,
   "metadata": {},
   "outputs": [],
   "source": []
  }
 ],
 "metadata": {
  "kernelspec": {
   "display_name": "Python 3",
   "language": "python",
   "name": "python3"
  },
  "language_info": {
   "codemirror_mode": {
    "name": "ipython",
    "version": 3
   },
   "file_extension": ".py",
   "mimetype": "text/x-python",
   "name": "python",
   "nbconvert_exporter": "python",
   "pygments_lexer": "ipython3",
   "version": "3.7.3"
  }
 },
 "nbformat": 4,
 "nbformat_minor": 2
}
