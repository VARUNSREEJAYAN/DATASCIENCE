{
 "cells": [
  {
   "cell_type": "markdown",
   "metadata": {},
   "source": [
    "# Captsone report"
   ]
  },
  {
   "cell_type": "markdown",
   "metadata": {},
   "source": [
    "San Diego, California is a densly populated area with a good number of youngsters. The end of a busy day at work usually ends up at a restaurant. Most people like to try new places and so there is always a likehood of a new restaurant rising to success. With this in mind, I was wondering if i could come up with an analysis of the area to find out which neighborhood would most likely suit an american restuarnt to flourish. The problem description can be assesed in two ways. One from a stakeholders point of view the question would be - Which is the best neighborhood to start an american restaurant. Second, from the peoples perspective- A new choice of restaurant?"
   ]
  },
  {
   "cell_type": "markdown",
   "metadata": {},
   "source": [
    "The data for this project needs to be build from various sources. The data needs to have the neighborhood, latitude and longitudes and also the varies other attributes that would be needed for the analysis. With this in mind, I have taken a dataset from kaggle that had a list of restaurants selling burritos in san diego, california. This list can be used to get the neighborhoods around which restaurants are prominent. After getting a list of neighborhoods, a data frame can be prepared with latitude and longitudanal data merged with the neighborhood data. This will give a data frame with 3 columns. After that using the foursqure API to find venues, further analysis can be perfomed to get insights from the data."
   ]
  },
  {
   "cell_type": "markdown",
   "metadata": {},
   "source": [
    "For further analysis, I performed k-means clustering algoirthm to cluster the data sets. The data was clustered into 3 clusters with respect to the neighborhoods. The analysis showed that cluster 1 and cluster 3 had a higher concentration of American restaurants as compared to clutser 2. CLuster 1 had the highest concentration and with this I can conclude that opening a restaurant in those neighborhoods would have a higher competition to handle with. CLuster 2 had the lowest concentartion and with the analysis it can be concluded that these neighborhoods can be of a better choice to stakeholders wanting to start a new american restaurant. Neighborhoods that can be considered are Kearny Mesa, Miramar, Pacific beach,La jolla village and Clairemont to name a few. "
   ]
  },
  {
   "cell_type": "markdown",
   "metadata": {},
   "source": [
    "With this project it can be concluded that with the help of a data set and the foursqure API, we can find out the venues close to the data points of a certain neighborhood and find out the possible scenarios of a certain objective. With this i conclude this report on finding a prospective neighborhood to start an american restaurant in san diego, califonia."
   ]
  },
  {
   "cell_type": "code",
   "execution_count": null,
   "metadata": {},
   "outputs": [],
   "source": []
  }
 ],
 "metadata": {
  "kernelspec": {
   "display_name": "Python 3",
   "language": "python",
   "name": "python3"
  },
  "language_info": {
   "codemirror_mode": {
    "name": "ipython",
    "version": 3
   },
   "file_extension": ".py",
   "mimetype": "text/x-python",
   "name": "python",
   "nbconvert_exporter": "python",
   "pygments_lexer": "ipython3",
   "version": "3.7.3"
  }
 },
 "nbformat": 4,
 "nbformat_minor": 2
}
